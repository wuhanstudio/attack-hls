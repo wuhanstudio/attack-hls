{
 "cells": [
  {
   "cell_type": "markdown",
   "metadata": {},
   "source": [
    "# ART HopSkipJump Attack"
   ]
  },
  {
   "cell_type": "code",
   "execution_count": 32,
   "metadata": {},
   "outputs": [],
   "source": [
    "%matplotlib inline\n",
    "\n",
    "import numpy as np\n",
    "import keras\n",
    "from keras.preprocessing import image\n",
    "from keras.layers import Dense, Flatten\n",
    "from keras.models import Model\n",
    "import keras.backend as k\n",
    "from matplotlib import pyplot as plt\n",
    "from IPython.display import clear_output"
   ]
  },
  {
   "cell_type": "code",
   "execution_count": 33,
   "metadata": {},
   "outputs": [],
   "source": [
    "from art.estimators.classification import KerasClassifier\n",
    "from art.attacks.evasion import HopSkipJump\n",
    "from art.utils import to_categorical"
   ]
  },
  {
   "cell_type": "code",
   "execution_count": 187,
   "metadata": {},
   "outputs": [],
   "source": [
    "np.set_printoptions(suppress=True)"
   ]
  },
  {
   "cell_type": "markdown",
   "metadata": {},
   "source": [
    "## Lenet"
   ]
  },
  {
   "cell_type": "code",
   "execution_count": 415,
   "metadata": {},
   "outputs": [],
   "source": [
    "import numpy as np\n",
    "import os\n",
    "\n",
    "import keras\n",
    "from keras.datasets import mnist\n",
    "from keras.layers import Conv2D, Dense, AveragePooling2D, Dropout, Flatten, Activation\n",
    "from keras.optimizers import Adam\n",
    "from keras.utils import to_categorical\n",
    "from keras.models import Sequential\n",
    "from keras import backend as K\n",
    "\n",
    "os.environ['TF_CPP_MIN_LOG_LEVEL'] = '2'\n",
    "#os.environ['CUDA_VISIBLE_DEVICES']='2' #使用GPU"
   ]
  },
  {
   "cell_type": "code",
   "execution_count": 416,
   "metadata": {},
   "outputs": [],
   "source": [
    "from tensorflow.keras import activations"
   ]
  },
  {
   "cell_type": "code",
   "execution_count": 417,
   "metadata": {},
   "outputs": [],
   "source": [
    "class LeNet5:\n",
    "    @staticmethod\n",
    "    def build(width, height, depth, classes):\n",
    "        model = Sequential()\n",
    "        inputShape = (height, width, depth)\n",
    "\n",
    "        model.add(Conv2D(6, kernel_size=(5,5), padding=\"valid\", activation=None, use_bias=False, input_shape=inputShape ))\n",
    "        model.add(AveragePooling2D(pool_size=(2,2)))\n",
    "        model.add(Activation(activations.sigmoid))\n",
    "        model.add(Conv2D(16, kernel_size=(5,5), padding=\"valid\", activation=None, use_bias=False))\n",
    "        model.add(AveragePooling2D(pool_size=(2,2)))\n",
    "        model.add(Activation(activations.sigmoid))\n",
    "        model.add(Flatten())\n",
    "        model.add(Dense(120, activation=None, use_bias=False))\n",
    "        model.add(Dense(84, activation=None, use_bias=False))\n",
    "        model.add(Dense(10, activation=\"softmax\", use_bias=False))\n",
    "\n",
    "        return model"
   ]
  },
  {
   "cell_type": "code",
   "execution_count": 418,
   "metadata": {},
   "outputs": [],
   "source": [
    "(x_train, y_train), (x_test, y_test) = mnist.load_data()\n",
    "\n",
    "x_train = x_train.reshape(60000,28,28,1)\n",
    "x_test = x_test.reshape(10000,28,28,1)\n",
    "\n",
    "x_train = x_train.astype('float32')\n",
    "x_test = x_test.astype('float32')\n",
    "\n",
    "y_train=to_categorical(y_train,num_classes=10)\n",
    "y_test=to_categorical(y_test,num_classes=10)"
   ]
  },
  {
   "cell_type": "code",
   "execution_count": 419,
   "metadata": {},
   "outputs": [],
   "source": [
    "x_train_new = np.zeros((x_train.shape[0], 32, 32, 1))\n",
    "for i in range (0, x_train.shape[0]):\n",
    "    x_train_new[i] = np.pad(x_train[i].reshape(28, 28), [(2, ), (2, )], mode='constant').reshape(32, 32, 1)\n",
    "x_train = x_train_new"
   ]
  },
  {
   "cell_type": "code",
   "execution_count": 420,
   "metadata": {},
   "outputs": [],
   "source": [
    "x_test_new = np.zeros((x_test.shape[0], 32, 32, 1))\n",
    "for i in range (0, x_test.shape[0]):\n",
    "    x_test_new[i] = np.pad(x_test[i].reshape(28, 28), [(2, ), (2, )], mode='constant').reshape(32, 32, 1)\n",
    "x_test = x_test_new"
   ]
  },
  {
   "cell_type": "code",
   "execution_count": 421,
   "metadata": {},
   "outputs": [
    {
     "name": "stdout",
     "output_type": "stream",
     "text": [
      "Model: \"sequential_6\"\n",
      "_________________________________________________________________\n",
      "Layer (type)                 Output Shape              Param #   \n",
      "=================================================================\n",
      "conv2d_10 (Conv2D)           (None, 28, 28, 6)         150       \n",
      "_________________________________________________________________\n",
      "average_pooling2d_9 (Average (None, 14, 14, 6)         0         \n",
      "_________________________________________________________________\n",
      "activation_3 (Activation)    (None, 14, 14, 6)         0         \n",
      "_________________________________________________________________\n",
      "conv2d_11 (Conv2D)           (None, 10, 10, 16)        2400      \n",
      "_________________________________________________________________\n",
      "average_pooling2d_10 (Averag (None, 5, 5, 16)          0         \n",
      "_________________________________________________________________\n",
      "activation_4 (Activation)    (None, 5, 5, 16)          0         \n",
      "_________________________________________________________________\n",
      "flatten_5 (Flatten)          (None, 400)               0         \n",
      "_________________________________________________________________\n",
      "dense_13 (Dense)             (None, 120)               48000     \n",
      "_________________________________________________________________\n",
      "dense_14 (Dense)             (None, 84)                10080     \n",
      "_________________________________________________________________\n",
      "dense_15 (Dense)             (None, 10)                840       \n",
      "=================================================================\n",
      "Total params: 61,470\n",
      "Trainable params: 61,470\n",
      "Non-trainable params: 0\n",
      "_________________________________________________________________\n"
     ]
    }
   ],
   "source": [
    "model = LeNet5.build(32, 32, 1, 10)\n",
    "model.compile(loss=\"categorical_crossentropy\", optimizer=Adam(lr=5e-4), metrics=[\"accuracy\"])\n",
    "model.summary()"
   ]
  },
  {
   "cell_type": "code",
   "execution_count": 422,
   "metadata": {
    "scrolled": true
   },
   "outputs": [
    {
     "name": "stdout",
     "output_type": "stream",
     "text": [
      "Epoch 1/7\n",
      "60000/60000 [==============================] - 30s 497us/step - loss: 0.6893 - accuracy: 0.8004\n",
      "Epoch 2/7\n",
      "60000/60000 [==============================] - 28s 462us/step - loss: 0.2374 - accuracy: 0.9266\n",
      "Epoch 3/7\n",
      "60000/60000 [==============================] - 27s 453us/step - loss: 0.1613 - accuracy: 0.9491\n",
      "Epoch 4/7\n",
      "60000/60000 [==============================] - 26s 441us/step - loss: 0.1296 - accuracy: 0.9603\n",
      "Epoch 5/7\n",
      "60000/60000 [==============================] - 28s 462us/step - loss: 0.1178 - accuracy: 0.9637\n",
      "Epoch 6/7\n",
      "60000/60000 [==============================] - 27s 456us/step - loss: 0.1057 - accuracy: 0.9671\n",
      "Epoch 7/7\n",
      "60000/60000 [==============================] - 26s 441us/step - loss: 0.0986 - accuracy: 0.9697s - l\n"
     ]
    },
    {
     "data": {
      "text/plain": [
       "<keras.callbacks.callbacks.History at 0x1f227b38>"
      ]
     },
     "execution_count": 422,
     "metadata": {},
     "output_type": "execute_result"
    }
   ],
   "source": [
    "model.fit(x_train,y_train,batch_size=120,epochs=7)"
   ]
  },
  {
   "cell_type": "code",
   "execution_count": 423,
   "metadata": {},
   "outputs": [],
   "source": [
    "# for i in [0, 2, 5, 6, 7]:\n",
    "#     x = model.layers[i].get_weights()[0] #weights\n",
    "#     y = model.layers[i].get_weights()[1] #array of biases\n",
    "#     y = np.zeros(y.shape)\n",
    "#     l=[]\n",
    "#     l.append(x)\n",
    "#     l.append(y)\n",
    "#     model.layers[i].set_weights(l)"
   ]
  },
  {
   "cell_type": "code",
   "execution_count": 424,
   "metadata": {},
   "outputs": [],
   "source": [
    "model.save('lenet.h5')"
   ]
  },
  {
   "cell_type": "code",
   "execution_count": 9,
   "metadata": {},
   "outputs": [
    {
     "name": "stdout",
     "output_type": "stream",
     "text": [
      "WARNING:tensorflow:From d:\\anaconda3\\envs\\alibi\\lib\\site-packages\\keras\\backend\\tensorflow_backend.py:422: The name tf.global_variables is deprecated. Please use tf.compat.v1.global_variables instead.\n",
      "\n"
     ]
    }
   ],
   "source": [
    "from keras.models import load_model\n",
    "model = load_model('lenet.h5')"
   ]
  },
  {
   "cell_type": "markdown",
   "metadata": {},
   "source": [
    "# Model Definition"
   ]
  },
  {
   "cell_type": "code",
   "execution_count": 425,
   "metadata": {},
   "outputs": [],
   "source": [
    "classifier = KerasClassifier(clip_values=(0, 255), model=model)"
   ]
  },
  {
   "cell_type": "markdown",
   "metadata": {},
   "source": [
    "# Get Target and Init Images"
   ]
  },
  {
   "cell_type": "code",
   "execution_count": 426,
   "metadata": {},
   "outputs": [],
   "source": [
    "init_image = x_test[2].reshape(1, 32, 32, 1)"
   ]
  },
  {
   "cell_type": "code",
   "execution_count": 427,
   "metadata": {
    "scrolled": false
   },
   "outputs": [
    {
     "name": "stdout",
     "output_type": "stream",
     "text": [
      "Init image is:  1\n"
     ]
    },
    {
     "data": {
      "image/png": "[encoded data removed]",
      "text/plain": [
       "<Figure size 432x288 with 1 Axes>"
      ]
     },
     "metadata": {
      "needs_background": "light"
     },
     "output_type": "display_data"
    }
   ],
   "source": [
    "print( \"Init image is: \", np.argmax(classifier.predict(init_image)) )\n",
    "plt.imshow(init_image.reshape(32, 32).astype(np.uint))\n",
    "plt.show()"
   ]
  },
  {
   "cell_type": "code",
   "execution_count": 428,
   "metadata": {},
   "outputs": [],
   "source": [
    "target_image = x_test[0].reshape(1, 32, 32, 1)"
   ]
  },
  {
   "cell_type": "code",
   "execution_count": 429,
   "metadata": {},
   "outputs": [
    {
     "name": "stdout",
     "output_type": "stream",
     "text": [
      "Target image is:  7\n"
     ]
    },
    {
     "data": {
      "image/png": "[encoded data removed]",
      "text/plain": [
       "<Figure size 432x288 with 1 Axes>"
      ]
     },
     "metadata": {
      "needs_background": "light"
     },
     "output_type": "display_data"
    }
   ],
   "source": [
    "print( \"Target image is: \", np.argmax(classifier.predict(target_image)) )\n",
    "plt.imshow(target_image.reshape(32, 32).astype(np.uint))\n",
    "plt.show()"
   ]
  },
  {
   "cell_type": "code",
   "execution_count": 430,
   "metadata": {},
   "outputs": [],
   "source": [
    "from PIL import Image"
   ]
  },
  {
   "cell_type": "code",
   "execution_count": 492,
   "metadata": {
    "scrolled": true
   },
   "outputs": [
    {
     "name": "stdout",
     "output_type": "stream",
     "text": [
      "Target image is:  8\n"
     ]
    },
    {
     "data": {
      "image/png": "[encoded data removed]",
      "text/plain": [
       "<Figure size 432x288 with 1 Axes>"
      ]
     },
     "metadata": {
      "needs_background": "light"
     },
     "output_type": "display_data"
    }
   ],
   "source": [
    "test_image = x_test[61].reshape(1, 32, 32, 1)\n",
    "print( \"Target image is: \", np.argmax(classifier.predict(test_image)) )\n",
    "# Image.fromarray(test_image).save(\"test.bmp\")\n",
    "plt.imshow(test_image.reshape(32, 32).astype(np.uint))\n",
    "plt.show()"
   ]
  },
  {
   "cell_type": "code",
   "execution_count": 493,
   "metadata": {
    "scrolled": false
   },
   "outputs": [
    {
     "data": {
      "text/plain": [
       "array([[0.0002379 , 0.00000002, 0.0034712 , 0.00063   , 0.00000199,\n",
       "        0.00055088, 0.00000538, 0.00000518, 0.91464996, 0.08044745]],\n",
       "      dtype=float32)"
      ]
     },
     "execution_count": 493,
     "metadata": {},
     "output_type": "execute_result"
    }
   ],
   "source": [
    "classifier.predict(test_image)"
   ]
  },
  {
   "cell_type": "code",
   "execution_count": 494,
   "metadata": {},
   "outputs": [],
   "source": [
    "Image.fromarray(test_image.reshape(32, 32).astype(np.uint8)).save('test.bmp', 'bmp')"
   ]
  },
  {
   "cell_type": "code",
   "execution_count": 79,
   "metadata": {},
   "outputs": [],
   "source": [
    "y_pred = np.argmax(classifier.predict(x_test), axis=1)\n",
    "y_tests = np.argmax(y_test, axis=1)"
   ]
  },
  {
   "cell_type": "code",
   "execution_count": 19,
   "metadata": {},
   "outputs": [],
   "source": [
    "from sklearn.metrics import accuracy_score"
   ]
  },
  {
   "cell_type": "code",
   "execution_count": 20,
   "metadata": {
    "scrolled": false
   },
   "outputs": [
    {
     "data": {
      "text/plain": [
       "0.9834"
      ]
     },
     "execution_count": 20,
     "metadata": {},
     "output_type": "execute_result"
    }
   ],
   "source": [
    "accuracy_score(y_tests, y_pred)"
   ]
  },
  {
   "cell_type": "code",
   "execution_count": 495,
   "metadata": {
    "scrolled": true
   },
   "outputs": [
    {
     "data": {
      "text/plain": [
       "8"
      ]
     },
     "execution_count": 495,
     "metadata": {},
     "output_type": "execute_result"
    }
   ],
   "source": [
    "np.argmax(classifier.predict(np.transpose(test_image, (0, 1, 2, 3))))"
   ]
  },
  {
   "cell_type": "markdown",
   "metadata": {},
   "source": [
    "#### Conv1 "
   ]
  },
  {
   "cell_type": "code",
   "execution_count": 466,
   "metadata": {},
   "outputs": [
    {
     "name": "stdout",
     "output_type": "stream",
     "text": [
      "(1, 28, 28, 6)\n"
     ]
    }
   ],
   "source": [
    "conv1_layer_model = Model(inputs=model.input,outputs=model.get_layer('conv2d_10').output)\n",
    "conv1_output = conv1_layer_model.predict(test_image)\n",
    "print (conv1_output.shape)"
   ]
  },
  {
   "cell_type": "code",
   "execution_count": 467,
   "metadata": {},
   "outputs": [
    {
     "data": {
      "text/plain": [
       "(5, 5, 1, 6)"
      ]
     },
     "execution_count": 467,
     "metadata": {},
     "output_type": "execute_result"
    }
   ],
   "source": [
    "model.layers[0].get_weights()[0].shape"
   ]
  },
  {
   "cell_type": "code",
   "execution_count": 468,
   "metadata": {},
   "outputs": [
    {
     "data": {
      "text/plain": [
       "array([[-0.00940436,  0.01238783,  0.08522091,  0.23030287, -0.06636436],\n",
       "       [-0.12811314, -0.11629552, -0.08097397, -0.14692259,  0.03437737],\n",
       "       [-0.00408758, -0.05341248, -0.1170335 , -0.18058164, -0.06306452],\n",
       "       [-0.07540231,  0.13595513,  0.10336275, -0.04381952, -0.17583062],\n",
       "       [ 0.09461226,  0.05428668, -0.04073516,  0.05871759, -0.04187211]],\n",
       "      dtype=float32)"
      ]
     },
     "execution_count": 468,
     "metadata": {},
     "output_type": "execute_result"
    }
   ],
   "source": [
    "model.layers[0].get_weights()[0][:, :, 0, 0]"
   ]
  },
  {
   "cell_type": "code",
   "execution_count": 469,
   "metadata": {},
   "outputs": [
    {
     "data": {
      "text/plain": [
       "array([[-0.00940436,  0.01238783,  0.08522091,  0.23030287, -0.06636436],\n",
       "       [-0.12811314, -0.11629552, -0.08097397, -0.14692259,  0.03437737],\n",
       "       [-0.00408758, -0.05341248, -0.1170335 , -0.18058164, -0.06306452],\n",
       "       [-0.07540231,  0.13595513,  0.10336275, -0.04381952, -0.17583062],\n",
       "       [ 0.09461226,  0.05428668, -0.04073516,  0.05871759, -0.04187211]],\n",
       "      dtype=float32)"
      ]
     },
     "execution_count": 469,
     "metadata": {},
     "output_type": "execute_result"
    }
   ],
   "source": [
    "np.transpose(model.layers[0].get_weights()[0], (2, 3, 0, 1))[0, 0, :, :]"
   ]
  },
  {
   "cell_type": "code",
   "execution_count": 470,
   "metadata": {
    "scrolled": false
   },
   "outputs": [
    {
     "name": "stdout",
     "output_type": "stream",
     "text": [
      "0.000000, 0.000000, 0.000000, 0.000000, 0.000000, 0.000000, 0.000000, 0.000000, 0.000000, -0.879314, -48.969315, -62.115898, -32.995197, 66.749382, 41.763214, -4.491217, -1.172302, -1.067402, -10.959412, -56.781990, -114.789391, -40.580032, 23.712622, -16.534016, -53.062279, -17.535212, 0.000000, 0.000000, 0.000000, 0.000000, 0.000000, 0.000000, 0.000000, 0.000000, 0.000000, 0.000000, 0.000000, -3.692443, -58.655502, -74.056870, -65.146935, -9.483094, -19.100613, -20.443951, -1.716756, -8.528896, -40.043823, -70.350754, -70.799370, 2.337719, 4.618625, -51.988262, -56.396523, -14.194376, 0.000000, 0.000000, 0.000000, 0.000000, 0.000000, 0.000000, 0.000000, 0.000000, 0.000000, 0.000000, 0.000000, -1.324355, -58.971607, -96.345642, -21.910297, -0.480393, -30.572182, -9.912743, -1.177528, -28.980656, -47.404484, -58.046257, -16.260208, 18.793110, -13.085966, -73.957314, -40.326511, -6.211883, 0.000000, 0.000000, 0.000000, 0.000000, 0.000000, 0.000000, 0.000000, 0.000000, 0.000000, 0.000000, 0.000000, 0.721925, -51.957661, -94.646126, -31.612198, -10.280257, -27.030670, -19.533474, -11.503057, -9.454172, -15.472927, -49.763721, -31.425343, -16.025724, -56.396275, -46.697647, -18.607861, -0.385579, 0.000000, 0.000000, 0.000000, 0.000000, 0.000000, 0.000000, 0.000000, 0.000000, 0.000000, 0.000000, 0.000000, -1.393651, -20.375416, -66.880524, -111.721344, -104.653130, -73.876503, -60.493629, -35.687527, -43.603947, -80.123260, -74.708298, -46.802433, -35.836357, -47.103569, -29.183514, -3.784830, 0.000000, 0.000000, 0.000000, 0.000000, 0.000000, 0.000000, 0.000000, 0.000000, 0.000000, 0.000000, 0.000000, 0.000000, 0.000000, -10.554840, -4.752201, -84.020905, -165.895264, -169.511841, -137.014954, -119.494278, -132.081451, -106.577065, -56.255695, -14.433565, -30.840752, -22.393412, -4.223591, -0.188087, 0.000000, 0.000000, 0.000000, 0.000000, 0.000000, 0.000000, 0.000000, 0.000000, 0.000000, 0.000000, 0.000000, 0.000000, 0.000000, -9.341553, 22.638357, 15.712917, -48.288460, -132.326874, -147.613144, -118.141602, -65.432320, -23.650862, 1.042674, -11.584873, -9.061842, -1.360389, -0.188087, 0.000000, 0.000000, 0.000000, 0.000000, 0.000000, 0.000000, 0.000000, 0.000000, 0.000000, 0.000000, 0.000000, 0.000000, 0.000000, 0.000000, -2.720939, -5.055519, 40.690506, 46.717686, 27.521410, 14.793900, 14.551018, 13.613111, 13.477352, -0.847901, -1.882879, -0.771158, 0.000000, 0.000000, 0.000000, 0.000000, 0.000000, 0.000000, 0.000000, 0.000000, 0.000000, 0.000000, 0.000000, 0.000000, 0.000000, 0.000000, 0.000000, 0.000000, 0.000000, -1.990931, -1.784644, 19.984346, 48.387283, 39.948490, 21.457516, 6.133486, 0.427717, -0.346340, -0.094044, 0.000000, 0.000000, 0.000000, 0.000000, 0.000000, 0.000000, 0.000000, 0.000000, 0.000000, 0.000000, 0.000000, 0.000000, 0.000000, 0.000000, 0.000000, 0.000000, 0.000000, 0.000000, 0.000000, 0.000000, 0.000000, 0.000000, 0.000000, 0.000000, 0.000000, 0.000000, 0.000000, 0.000000, 0.000000, 0.000000, 0.000000, 0.000000, 0.000000, 0.000000, 0.000000, 0.000000, 0.000000, 0.000000, 0.000000, 0.000000, 0.000000, 0.000000, 0.000000, 0.000000, 0.000000, 0.000000, 0.000000, 0.000000, 0.000000, 0.000000, 0.000000, 0.000000, 0.000000, 0.000000, 0.000000, 0.000000, 0.000000, 0.000000, 0.000000, 0.000000, 0.000000, 0.000000, 0.000000, 0.000000, 0.000000, 0.000000, 0.000000, 0.000000, 0.000000, 0.000000, 0.000000, 0.000000, 0.000000, 0.000000, 0.000000, 0.000000, 0.000000, 0.000000, 0.000000, 0.000000, 0.000000, 0.000000, 0.000000, 0.000000, 0.000000, 0.000000, 0.000000, 0.000000, 0.000000, 0.000000, 0.000000, 0.000000, 0.000000, 0.000000, 0.000000, 0.000000, 0.000000, 0.000000, 0.000000, 0.000000, 0.000000, 0.000000, 0.000000, 0.000000, 0.000000, 0.000000, 0.000000, 0.000000, 0.000000, 0.000000, 0.000000, 0.000000, 0.000000, 0.000000, 0.000000, 0.000000, 0.000000, 0.000000, 0.000000, 0.000000, 0.000000, 0.000000, 0.000000, 0.000000, 0.000000, 0.000000, 0.000000, 0.000000, 0.000000, 0.000000, 0.000000, 0.000000, 0.000000, -25.725765, -35.921890, -50.460381, -45.071892, -23.048983, -12.239454, -8.777680, -11.584320, -10.650412, -5.087681, -1.594517, 2.427523, 1.680523, 0.000000, 0.000000, 0.000000, 0.000000, 0.000000, 0.000000, 0.000000, 0.000000, 0.000000, 0.000000, 0.000000, 0.000000, 0.000000, 0.000000, -3.314363, -42.904465, -49.317177, -101.989029, -119.647163, -143.479416, -138.566132, -118.096909, -101.882874, -81.466827, -61.886360, -35.833767, -12.194854, 2.027356, 4.445254, 0.000000, 0.000000, 0.000000, 0.000000, 0.000000, 0.000000, 0.000000, 0.000000, 0.000000, 0.000000, 0.000000, 0.000000, 0.000000, -8.951714, -77.331512, -64.771210, -112.033844, -107.224464, -130.602768, -138.045242, -155.602936, -153.792480, -142.337036, -156.746689, -120.605217, -102.810959, -52.769485, -10.324411, 2.168417, 0.000000, 0.000000, 0.000000, 0.000000, 0.000000, 0.000000, 0.000000, 0.000000, 0.000000, 0.000000, 0.000000, 0.000000, -13.753390, -86.018585, -80.078644, -128.954071, -94.726845, -92.194839, -63.002373, -70.964378, -71.707932, -83.867477, -74.381851, -38.598999, -66.265182, -26.674347, -40.087765, -9.663322, 0.000000, 0.000000, 0.000000, 0.000000, 0.000000, 0.000000, 0.000000, 0.000000, 0.000000, 0.000000, 0.000000, 0.000000, -18.678110, -56.543816, 2.318691, -36.754391, -8.935658, -9.525042, 25.301449, 26.420885, 25.942392, 25.064148, -6.533743, "
     ]
    }
   ],
   "source": [
    "# NHWC --> NCWH\n",
    "for i in range(500, 1000):\n",
    "    print(\"%f, \" % np.ravel(np.transpose(conv1_output, (0,3, 1, 2)))[i], end='')"
   ]
  },
  {
   "cell_type": "markdown",
   "metadata": {},
   "source": [
    "#### AVG1"
   ]
  },
  {
   "cell_type": "code",
   "execution_count": 471,
   "metadata": {},
   "outputs": [
    {
     "name": "stdout",
     "output_type": "stream",
     "text": [
      "(1, 14, 14, 6)\n"
     ]
    }
   ],
   "source": [
    "avg1_layer_model = Model(inputs=model.input,outputs=model.get_layer('activation_3').output)\n",
    "avg1_output = avg1_layer_model.predict(test_image)\n",
    "print (avg1_output.shape)"
   ]
  },
  {
   "cell_type": "code",
   "execution_count": 489,
   "metadata": {},
   "outputs": [
    {
     "data": {
      "text/plain": [
       "array([[0.5       , 0.5       , 0.5       , 0.5       , 0.5       ],\n",
       "       [0.5       , 0.5       , 0.5       , 0.5       , 0.5       ],\n",
       "       [0.5       , 0.5       , 0.5       , 0.5       , 0.15751848],\n",
       "       [0.5       , 0.5       , 0.5       , 0.5       , 0.00149202],\n",
       "       [0.5       , 0.5       , 0.5       , 0.5       , 0.00001699]],\n",
       "      dtype=float32)"
      ]
     },
     "execution_count": 489,
     "metadata": {},
     "output_type": "execute_result"
    }
   ],
   "source": [
    "avg1_output[0, 0:5, 0:5, 0]"
   ]
  },
  {
   "cell_type": "markdown",
   "metadata": {},
   "source": [
    "#### conv2"
   ]
  },
  {
   "cell_type": "code",
   "execution_count": 475,
   "metadata": {
    "scrolled": true
   },
   "outputs": [
    {
     "data": {
      "text/plain": [
       "(5, 5, 6, 16)"
      ]
     },
     "execution_count": 475,
     "metadata": {},
     "output_type": "execute_result"
    }
   ],
   "source": [
    "model.layers[3].get_weights()[0].shape"
   ]
  },
  {
   "cell_type": "code",
   "execution_count": 487,
   "metadata": {
    "scrolled": false
   },
   "outputs": [
    {
     "data": {
      "text/plain": [
       "array([[-0.06308769, -0.10652678,  0.00386955,  0.04662913, -0.09070916],\n",
       "       [ 0.05483643, -0.07800327,  0.09089689,  0.13907705,  0.15911043],\n",
       "       [ 0.0543736 ,  0.00995695,  0.10237548,  0.2864901 ,  0.37455496],\n",
       "       [-0.02871806, -0.06390347,  0.01901451,  0.04063466,  0.17830536],\n",
       "       [ 0.05652579,  0.00874689,  0.08134255, -0.03306204,  0.09979029]],\n",
       "      dtype=float32)"
      ]
     },
     "execution_count": 487,
     "metadata": {},
     "output_type": "execute_result"
    }
   ],
   "source": [
    "model.layers[3].get_weights()[0][:, :, 0, 0]"
   ]
  },
  {
   "cell_type": "code",
   "execution_count": 477,
   "metadata": {},
   "outputs": [
    {
     "name": "stdout",
     "output_type": "stream",
     "text": [
      "(1, 10, 10, 16)\n"
     ]
    }
   ],
   "source": [
    "conv2_layer_model = Model(inputs=model.input,outputs=model.get_layer('conv2d_11').output)\n",
    "conv2_output = conv2_layer_model.predict(test_image)\n",
    "print (conv2_output.shape)"
   ]
  },
  {
   "cell_type": "code",
   "execution_count": 478,
   "metadata": {},
   "outputs": [
    {
     "data": {
      "text/plain": [
       "array([[-0.6977773 , -1.399948  , -1.7572062 , -1.2884461 , -2.4566717 ,\n",
       "        -3.4471638 , -3.4261355 , -3.3875382 , -3.0281632 , -2.8107133 ],\n",
       "       [-0.8541142 , -1.618419  , -1.3967028 , -0.9263687 , -1.1883893 ,\n",
       "        -1.1231524 , -0.8038418 ,  0.28432372, -0.12867945, -0.7247988 ],\n",
       "       [-0.632269  , -1.1757573 , -0.53068787, -0.22232294, -0.86967725,\n",
       "        -0.9804857 , -0.30011857,  0.72192895,  0.7173996 ,  0.8721546 ],\n",
       "       [-0.7640483 , -1.3091912 , -0.9213387 , -1.2764814 , -1.9593457 ,\n",
       "        -1.8753002 , -1.0923526 , -0.8060242 , -0.7841174 ,  0.2221055 ],\n",
       "       [-0.9871993 , -1.1429964 , -1.0060517 , -1.275858  , -1.2276856 ,\n",
       "        -0.5364125 , -0.00881648, -1.3157339 , -1.9084327 , -0.9983195 ],\n",
       "       [-0.79372174, -0.27089503, -0.15854278, -0.5609628 , -0.0620586 ,\n",
       "         1.7979039 ,  1.6100407 ,  0.0207769 , -1.2180682 , -0.90480405],\n",
       "       [-0.7899457 , -0.14998734, -0.29051906, -1.4806172 , -0.5886521 ,\n",
       "         0.5763054 ,  0.9835081 , -0.07409722, -1.0327747 , -0.7294345 ],\n",
       "       [-1.1704075 , -1.1845584 , -2.4445817 , -3.3901145 , -2.4089723 ,\n",
       "        -1.9863486 , -1.5501099 , -1.2832551 , -0.7316645 ,  0.21593267],\n",
       "       [-1.0086645 , -1.0375366 , -2.1106136 , -2.2796476 , -2.4203048 ,\n",
       "        -2.4385033 , -1.9776045 , -0.29148972,  0.7628671 ,  1.1583141 ],\n",
       "       [-0.16146547,  0.34164098,  0.58619493,  0.02735451, -0.54424834,\n",
       "        -0.7592553 , -0.1893059 ,  1.0155389 ,  1.6355057 ,  1.4472128 ]],\n",
       "      dtype=float32)"
      ]
     },
     "execution_count": 478,
     "metadata": {},
     "output_type": "execute_result"
    }
   ],
   "source": [
    "conv2_output[0, :, :, 0]"
   ]
  },
  {
   "cell_type": "code",
   "execution_count": 479,
   "metadata": {
    "scrolled": false
   },
   "outputs": [
    {
     "name": "stdout",
     "output_type": "stream",
     "text": [
      "-0.697777, -1.399948, -1.757206, -1.288446, -2.456672, -3.447164, -3.426136, -3.387538, -3.028163, -2.810713, -0.854114, -1.618419, -1.396703, -0.926369, -1.188389, -1.123152, -0.803842, 0.284324, -0.128679, -0.724799, -0.632269, -1.175757, -0.530688, -0.222323, -0.869677, -0.980486, -0.300119, 0.721929, 0.717400, 0.872155, -0.764048, -1.309191, -0.921339, -1.276481, -1.959346, -1.875300, -1.092353, -0.806024, -0.784117, 0.222106, -0.987199, -1.142996, -1.006052, -1.275858, -1.227686, -0.536412, -0.008816, -1.315734, -1.908433, -0.998320, -0.793722, -0.270895, -0.158543, -0.560963, -0.062059, 1.797904, 1.610041, 0.020777, -1.218068, -0.904804, -0.789946, -0.149987, -0.290519, -1.480617, -0.588652, 0.576305, 0.983508, -0.074097, -1.032775, -0.729434, -1.170408, -1.184558, -2.444582, -3.390115, -2.408972, -1.986349, -1.550110, -1.283255, -0.731664, 0.215933, -1.008664, -1.037537, -2.110614, -2.279648, -2.420305, -2.438503, -1.977605, -0.291490, 0.762867, 1.158314, -0.161465, 0.341641, 0.586195, 0.027355, -0.544248, -0.759255, -0.189306, 1.015539, 1.635506, 1.447213, "
     ]
    }
   ],
   "source": [
    "# NHWC --> NCHW\n",
    "for i in range(0, 100):\n",
    "    print(\"%f, \" % np.ravel(np.transpose(conv2_output, (0, 3, 1, 2)))[i], end='')"
   ]
  },
  {
   "cell_type": "markdown",
   "metadata": {},
   "source": [
    "#### avg2"
   ]
  },
  {
   "cell_type": "code",
   "execution_count": null,
   "metadata": {},
   "outputs": [],
   "source": []
  },
  {
   "cell_type": "markdown",
   "metadata": {},
   "source": [
    "#### F7"
   ]
  },
  {
   "cell_type": "code",
   "execution_count": null,
   "metadata": {},
   "outputs": [],
   "source": [
    "f4_layer_model = Model(inputs=model.input,outputs=model.get_layer('flatten_4').output)\n",
    "f4_output = f4_layer_model.predict(test_image)\n",
    "print (f4_output.shape)"
   ]
  },
  {
   "cell_type": "code",
   "execution_count": null,
   "metadata": {},
   "outputs": [],
   "source": [
    "f4_output"
   ]
  },
  {
   "cell_type": "code",
   "execution_count": 490,
   "metadata": {
    "scrolled": true
   },
   "outputs": [
    {
     "name": "stdout",
     "output_type": "stream",
     "text": [
      "(1, 10)\n"
     ]
    }
   ],
   "source": [
    "f4_layer_model = Model(inputs=model.input,outputs=model.get_layer('dense_15').output)\n",
    "f4_output = f4_layer_model.predict(test_image)\n",
    "print (f4_output.shape)"
   ]
  },
  {
   "cell_type": "code",
   "execution_count": 491,
   "metadata": {},
   "outputs": [
    {
     "data": {
      "text/plain": [
       "array([[0.00007125, 0.00000002, 0.00000004, 0.00026757, 0.00000008,\n",
       "        0.997652  , 0.00001468, 0.00000088, 0.00164508, 0.00034858]],\n",
       "      dtype=float32)"
      ]
     },
     "execution_count": 491,
     "metadata": {},
     "output_type": "execute_result"
    }
   ],
   "source": [
    "f4_output"
   ]
  },
  {
   "cell_type": "markdown",
   "metadata": {},
   "source": [
    "# Export Weights"
   ]
  },
  {
   "cell_type": "markdown",
   "metadata": {},
   "source": [
    "### Parameter 存放格式\n",
    "**image**和**parameter**存放在`input_array`中\n",
    "> iamge 32x32=1024\n",
    "\n",
    "> layer1 weights  5x5x6 = 25x6 = 150\n",
    "\n",
    "> layer3 weights  5x5x6x16 = 25x6x16 =2400\n",
    "\n",
    "> layer5 weights 400x120 = 48000\n",
    "\n",
    "> layer6 weights 84x120 = 10080\n",
    "\n",
    "> layer7 weights 10x84 = 840\n",
    "\n",
    "> 1024+150+2400+48000+10080+840=62494\n",
    "\n",
    "- input_array[0:149] = layer1 weights    **[Output Channel,Row,Column]**\n",
    "- input_array[150:2549] = layer3 weights    **[Output Channel,Input Channel,Row,Column]**\n",
    "- input_array[2550:50549] = layer5 weights    **[Output Channel,Input Channel]**\n",
    "- input_array[50550:60629] = layer6 weights      **[Output Channel,Input Channel]**\n",
    "- input_array[60630:61469] = layer7 weights      **[Output Channel,Input Channel]**\n",
    "- input_array[61470:62493] = image[0,0],image[0,1]...image[0,31],image[1,0]...image[31,31]     **[row,column]**"
   ]
  },
  {
   "cell_type": "code",
   "execution_count": 480,
   "metadata": {},
   "outputs": [],
   "source": [
    "input_array = np.arange(0,62494,1,dtype=np.float32) #just for test"
   ]
  },
  {
   "cell_type": "code",
   "execution_count": 481,
   "metadata": {
    "scrolled": true
   },
   "outputs": [
    {
     "data": {
      "text/plain": [
       "(16, 6, 5, 5)"
      ]
     },
     "execution_count": 481,
     "metadata": {},
     "output_type": "execute_result"
    }
   ],
   "source": [
    "np.transpose(model.layers[3].get_weights()[0], (3, 2, 1, 0)).shape"
   ]
  },
  {
   "cell_type": "code",
   "execution_count": 482,
   "metadata": {},
   "outputs": [
    {
     "data": {
      "text/plain": [
       "(10, 84)"
      ]
     },
     "execution_count": 482,
     "metadata": {},
     "output_type": "execute_result"
    }
   ],
   "source": [
    "np.transpose(model.layers[9].get_weights()[0], (1, 0)).shape"
   ]
  },
  {
   "cell_type": "code",
   "execution_count": 506,
   "metadata": {},
   "outputs": [
    {
     "data": {
      "text/plain": [
       "(32, 32, 1)"
      ]
     },
     "execution_count": 506,
     "metadata": {},
     "output_type": "execute_result"
    }
   ],
   "source": [
    "x_adv[0].shape"
   ]
  },
  {
   "cell_type": "code",
   "execution_count": 507,
   "metadata": {},
   "outputs": [],
   "source": [
    "input_array[0:150] = np.ravel(np.transpose(model.layers[0].get_weights()[0], (3, 2, 0, 1)))\n",
    "input_array[150:2550] = np.ravel(np.transpose(model.layers[3].get_weights()[0], ( 3, 2, 0, 1)))\n",
    "input_array[2550:50550] = np.ravel(np.transpose(model.layers[7].get_weights()[0], (1, 0)))\n",
    "input_array[50550:60630] = np.ravel(np.transpose(model.layers[8].get_weights()[0], (1, 0)))\n",
    "input_array[60630:61470] = np.ravel(np.transpose(model.layers[9].get_weights()[0], (1, 0)))\n",
    "input_array[61470:62494] = np.ravel(x_adv[0])"
   ]
  },
  {
   "cell_type": "code",
   "execution_count": 508,
   "metadata": {},
   "outputs": [],
   "source": [
    "import pickle"
   ]
  },
  {
   "cell_type": "code",
   "execution_count": 509,
   "metadata": {},
   "outputs": [],
   "source": [
    "with open('input_array_attack.pickle', 'wb') as f:\n",
    "    # Pickle the 'data' dictionary using the highest protocol available.\n",
    "    pickle.dump(input_array, f, pickle.HIGHEST_PROTOCOL)"
   ]
  },
  {
   "cell_type": "code",
   "execution_count": 510,
   "metadata": {},
   "outputs": [],
   "source": [
    "with open('input_array_attack.txt', 'w') as f:\n",
    "    # Pickle the 'data' dictionary using the highest protocol available.\n",
    "    for i in range(0, input_array.shape[0]):\n",
    "        f.write(\"%f\\n\" % (input_array[i]))"
   ]
  },
  {
   "cell_type": "markdown",
   "metadata": {},
   "source": [
    "# HopSkipJump Untargeted Attack"
   ]
  },
  {
   "cell_type": "code",
   "execution_count": 502,
   "metadata": {},
   "outputs": [
    {
     "name": "stderr",
     "output_type": "stream",
     "text": [
      "HopSkipJump: 100%|███████████████████████████████| 1/1 [00:00<00:00,  7.64it/s]\n"
     ]
    },
    {
     "name": "stdout",
     "output_type": "stream",
     "text": [
      "Adversarial image at step 0. L2 error 2131.900892815163 and class label 6.\n"
     ]
    },
    {
     "name": "stderr",
     "output_type": "stream",
     "text": [
      "HopSkipJump: 100%|███████████████████████████████| 1/1 [00:00<00:00,  1.30it/s]\n",
      "HopSkipJump:   0%|                                       | 0/1 [00:00<?, ?it/s]"
     ]
    },
    {
     "name": "stdout",
     "output_type": "stream",
     "text": [
      "Adversarial image at step 10. L2 error 2154.9085992598934 and class label 6.\n"
     ]
    },
    {
     "name": "stderr",
     "output_type": "stream",
     "text": [
      "HopSkipJump: 100%|███████████████████████████████| 1/1 [00:00<00:00,  1.32it/s]\n",
      "HopSkipJump:   0%|                                       | 0/1 [00:00<?, ?it/s]"
     ]
    },
    {
     "name": "stdout",
     "output_type": "stream",
     "text": [
      "Adversarial image at step 20. L2 error 2162.1802677095498 and class label 6.\n"
     ]
    },
    {
     "name": "stderr",
     "output_type": "stream",
     "text": [
      "HopSkipJump: 100%|███████████████████████████████| 1/1 [00:00<00:00,  1.07it/s]\n",
      "HopSkipJump:   0%|                                       | 0/1 [00:00<?, ?it/s]"
     ]
    },
    {
     "name": "stdout",
     "output_type": "stream",
     "text": [
      "Adversarial image at step 30. L2 error 2163.178540847636 and class label 6.\n"
     ]
    },
    {
     "name": "stderr",
     "output_type": "stream",
     "text": [
      "HopSkipJump: 100%|███████████████████████████████| 1/1 [00:00<00:00,  1.04it/s]\n",
      "HopSkipJump:   0%|                                       | 0/1 [00:00<?, ?it/s]"
     ]
    },
    {
     "name": "stdout",
     "output_type": "stream",
     "text": [
      "Adversarial image at step 40. L2 error 2164.2164349009304 and class label 6.\n"
     ]
    },
    {
     "name": "stderr",
     "output_type": "stream",
     "text": [
      "HopSkipJump: 100%|███████████████████████████████| 1/1 [00:01<00:00,  1.11s/it]\n",
      "HopSkipJump:   0%|                                       | 0/1 [00:00<?, ?it/s]"
     ]
    },
    {
     "name": "stdout",
     "output_type": "stream",
     "text": [
      "Adversarial image at step 50. L2 error 2164.1695245875344 and class label 6.\n"
     ]
    },
    {
     "name": "stderr",
     "output_type": "stream",
     "text": [
      "HopSkipJump: 100%|███████████████████████████████| 1/1 [00:01<00:00,  1.12s/it]\n",
      "HopSkipJump:   0%|                                       | 0/1 [00:00<?, ?it/s]"
     ]
    },
    {
     "name": "stdout",
     "output_type": "stream",
     "text": [
      "Adversarial image at step 60. L2 error 2164.9477801301337 and class label 6.\n"
     ]
    },
    {
     "name": "stderr",
     "output_type": "stream",
     "text": [
      "HopSkipJump: 100%|███████████████████████████████| 1/1 [00:01<00:00,  1.29s/it]\n",
      "HopSkipJump:   0%|                                       | 0/1 [00:00<?, ?it/s]"
     ]
    },
    {
     "name": "stdout",
     "output_type": "stream",
     "text": [
      "Adversarial image at step 70. L2 error 2165.1102074252913 and class label 6.\n"
     ]
    },
    {
     "name": "stderr",
     "output_type": "stream",
     "text": [
      "HopSkipJump: 100%|███████████████████████████████| 1/1 [00:01<00:00,  1.38s/it]\n",
      "HopSkipJump:   0%|                                       | 0/1 [00:00<?, ?it/s]"
     ]
    },
    {
     "name": "stdout",
     "output_type": "stream",
     "text": [
      "Adversarial image at step 80. L2 error 2165.458438148998 and class label 6.\n"
     ]
    },
    {
     "name": "stderr",
     "output_type": "stream",
     "text": [
      "HopSkipJump: 100%|███████████████████████████████| 1/1 [00:01<00:00,  1.40s/it]\n",
      "HopSkipJump:   0%|                                       | 0/1 [00:00<?, ?it/s]"
     ]
    },
    {
     "name": "stdout",
     "output_type": "stream",
     "text": [
      "Adversarial image at step 90. L2 error 2165.989423916225 and class label 6.\n"
     ]
    },
    {
     "name": "stderr",
     "output_type": "stream",
     "text": [
      "HopSkipJump: 100%|███████████████████████████████| 1/1 [00:01<00:00,  1.46s/it]\n",
      "HopSkipJump:   0%|                                       | 0/1 [00:00<?, ?it/s]"
     ]
    },
    {
     "name": "stdout",
     "output_type": "stream",
     "text": [
      "Adversarial image at step 100. L2 error 2166.222901928274 and class label 6.\n"
     ]
    },
    {
     "name": "stderr",
     "output_type": "stream",
     "text": [
      "HopSkipJump: 100%|███████████████████████████████| 1/1 [00:01<00:00,  1.55s/it]\n",
      "HopSkipJump:   0%|                                       | 0/1 [00:00<?, ?it/s]"
     ]
    },
    {
     "name": "stdout",
     "output_type": "stream",
     "text": [
      "Adversarial image at step 110. L2 error 2166.40358497685 and class label 6.\n"
     ]
    },
    {
     "name": "stderr",
     "output_type": "stream",
     "text": [
      "HopSkipJump: 100%|███████████████████████████████| 1/1 [00:01<00:00,  1.60s/it]\n",
      "HopSkipJump:   0%|                                       | 0/1 [00:00<?, ?it/s]"
     ]
    },
    {
     "name": "stdout",
     "output_type": "stream",
     "text": [
      "Adversarial image at step 120. L2 error 2166.5482968908223 and class label 6.\n"
     ]
    },
    {
     "name": "stderr",
     "output_type": "stream",
     "text": [
      "HopSkipJump: 100%|███████████████████████████████| 1/1 [00:01<00:00,  1.66s/it]\n",
      "HopSkipJump:   0%|                                       | 0/1 [00:00<?, ?it/s]"
     ]
    },
    {
     "name": "stdout",
     "output_type": "stream",
     "text": [
      "Adversarial image at step 130. L2 error 2166.722513276845 and class label 6.\n"
     ]
    },
    {
     "name": "stderr",
     "output_type": "stream",
     "text": [
      "HopSkipJump: 100%|███████████████████████████████| 1/1 [00:01<00:00,  1.72s/it]\n",
      "HopSkipJump:   0%|                                       | 0/1 [00:00<?, ?it/s]"
     ]
    },
    {
     "name": "stdout",
     "output_type": "stream",
     "text": [
      "Adversarial image at step 140. L2 error 2166.948707902128 and class label 6.\n"
     ]
    },
    {
     "name": "stderr",
     "output_type": "stream",
     "text": [
      "HopSkipJump: 100%|███████████████████████████████| 1/1 [00:01<00:00,  1.69s/it]\n",
      "HopSkipJump:   0%|                                       | 0/1 [00:00<?, ?it/s]"
     ]
    },
    {
     "name": "stdout",
     "output_type": "stream",
     "text": [
      "Adversarial image at step 150. L2 error 2166.676692104293 and class label 6.\n"
     ]
    },
    {
     "name": "stderr",
     "output_type": "stream",
     "text": [
      "HopSkipJump: 100%|███████████████████████████████| 1/1 [00:01<00:00,  1.80s/it]\n",
      "HopSkipJump:   0%|                                       | 0/1 [00:00<?, ?it/s]"
     ]
    },
    {
     "name": "stdout",
     "output_type": "stream",
     "text": [
      "Adversarial image at step 160. L2 error 2166.7090086242924 and class label 6.\n"
     ]
    },
    {
     "name": "stderr",
     "output_type": "stream",
     "text": [
      "HopSkipJump: 100%|███████████████████████████████| 1/1 [00:01<00:00,  1.79s/it]\n",
      "HopSkipJump:   0%|                                       | 0/1 [00:00<?, ?it/s]"
     ]
    },
    {
     "name": "stdout",
     "output_type": "stream",
     "text": [
      "Adversarial image at step 170. L2 error 2167.0763036588255 and class label 6.\n"
     ]
    },
    {
     "name": "stderr",
     "output_type": "stream",
     "text": [
      "HopSkipJump: 100%|███████████████████████████████| 1/1 [00:02<00:00,  2.18s/it]\n",
      "HopSkipJump:   0%|                                       | 0/1 [00:00<?, ?it/s]"
     ]
    },
    {
     "name": "stdout",
     "output_type": "stream",
     "text": [
      "Adversarial image at step 180. L2 error 2167.3192867503394 and class label 6.\n"
     ]
    },
    {
     "name": "stderr",
     "output_type": "stream",
     "text": [
      "HopSkipJump: 100%|███████████████████████████████| 1/1 [00:02<00:00,  2.11s/it]"
     ]
    },
    {
     "name": "stdout",
     "output_type": "stream",
     "text": [
      "Adversarial image at step 190. L2 error 2167.444991915985 and class label 6.\n"
     ]
    },
    {
     "name": "stderr",
     "output_type": "stream",
     "text": [
      "\n"
     ]
    }
   ],
   "source": [
    "attack = HopSkipJump(classifier=classifier, targeted=False, max_iter=0, max_eval=1000, init_eval=10)\n",
    "iter_step = 10\n",
    "x_adv = None\n",
    "for i in range(20):\n",
    "    x_adv = attack.generate(x=init_image, x_adv_init=x_adv, resume=True)\n",
    "\n",
    "    #clear_output()\n",
    "    print(\"Adversarial image at step %d.\" % (i * iter_step), \"L2 error\", \n",
    "          np.linalg.norm(np.reshape(x_adv[0] - target_image, [-1])),\n",
    "          \"and class label %d.\" % np.argmax(classifier.predict(x_adv)[0]))\n",
    "#     plt.imshow(x_adv[0].reshape(32, 32).astype(np.uint))\n",
    "#     plt.show(block=False)\n",
    "    \n",
    "    attack.max_iter = iter_step"
   ]
  },
  {
   "cell_type": "code",
   "execution_count": 503,
   "metadata": {},
   "outputs": [
    {
     "data": {
      "text/plain": [
       "<matplotlib.image.AxesImage at 0x1cf66f98>"
      ]
     },
     "execution_count": 503,
     "metadata": {},
     "output_type": "execute_result"
    },
    {
     "data": {
      "image/png": "[encoded data removed]",
      "text/plain": [
       "<Figure size 432x288 with 1 Axes>"
      ]
     },
     "metadata": {
      "needs_background": "light"
     },
     "output_type": "display_data"
    }
   ],
   "source": [
    "plt.imshow(x_adv[0].reshape(32, 32).astype(np.uint))"
   ]
  },
  {
   "cell_type": "code",
   "execution_count": 504,
   "metadata": {
    "scrolled": true
   },
   "outputs": [
    {
     "data": {
      "text/plain": [
       "6"
      ]
     },
     "execution_count": 504,
     "metadata": {},
     "output_type": "execute_result"
    }
   ],
   "source": [
    "np.argmax(classifier.predict(x_adv)[0])"
   ]
  },
  {
   "cell_type": "code",
   "execution_count": 141,
   "metadata": {},
   "outputs": [],
   "source": [
    "input_array = np.arange(0,62494,1,dtype=np.float32) #just for test\n",
    "input_array[0:150] = np.ravel(np.transpose(model.layers[0].get_weights()[0], (3, 2, 1, 0)))\n",
    "input_array[150:2550] = np.ravel(np.transpose(model.layers[3].get_weights()[0], (3, 2, 1, 0)))\n",
    "input_array[2550:50550] = np.ravel(np.transpose(model.layers[7].get_weights()[0], (1, 0)))\n",
    "input_array[50550:60630] = np.ravel(np.transpose(model.layers[8].get_weights()[0], (1, 0)))\n",
    "input_array[60630:61470] = np.ravel(np.transpose(model.layers[9].get_weights()[0], (1, 0)))\n",
    "input_array[61470:62494] = np.ravel(x_adv)"
   ]
  },
  {
   "cell_type": "code",
   "execution_count": 142,
   "metadata": {},
   "outputs": [],
   "source": [
    "with open('input_array_adv_u.pickle', 'wb') as f:\n",
    "    # Pickle the 'data' dictionary using the highest protocol available.\n",
    "    pickle.dump(input_array, f, pickle.HIGHEST_PROTOCOL)"
   ]
  },
  {
   "cell_type": "markdown",
   "metadata": {
    "collapsed": true
   },
   "source": [
    "# HopSkipJump Targeted Attack"
   ]
  },
  {
   "cell_type": "code",
   "execution_count": 143,
   "metadata": {},
   "outputs": [
    {
     "name": "stderr",
     "output_type": "stream",
     "text": [
      "HopSkipJump: 100%|███████████████████████████████████████| 1/1 [00:00<?, ?it/s]"
     ]
    },
    {
     "name": "stdout",
     "output_type": "stream",
     "text": [
      "Adversarial image at step 0. L2 error 2176.560819274297 and class label 1.\n"
     ]
    },
    {
     "name": "stderr",
     "output_type": "stream",
     "text": [
      "\n"
     ]
    },
    {
     "data": {
      "image/png": "[encoded data removed]",
      "text/plain": [
       "<Figure size 432x288 with 1 Axes>"
      ]
     },
     "metadata": {
      "needs_background": "light"
     },
     "output_type": "display_data"
    },
    {
     "name": "stderr",
     "output_type": "stream",
     "text": [
      "HopSkipJump: 100%|███████████████████████████████| 1/1 [00:00<00:00,  2.06it/s]\n"
     ]
    },
    {
     "name": "stdout",
     "output_type": "stream",
     "text": [
      "Adversarial image at step 10. L2 error 1612.8204698493892 and class label 1.\n"
     ]
    },
    {
     "data": {
      "image/png": "[encoded data removed]",
      "text/plain": [
       "<Figure size 432x288 with 1 Axes>"
      ]
     },
     "metadata": {
      "needs_background": "light"
     },
     "output_type": "display_data"
    },
    {
     "name": "stderr",
     "output_type": "stream",
     "text": [
      "HopSkipJump: 100%|███████████████████████████████| 1/1 [00:00<00:00,  1.31it/s]\n"
     ]
    },
    {
     "name": "stdout",
     "output_type": "stream",
     "text": [
      "Adversarial image at step 20. L2 error 1573.4577456319967 and class label 1.\n"
     ]
    },
    {
     "data": {
      "image/png": "[encoded data removed]",
      "text/plain": [
       "<Figure size 432x288 with 1 Axes>"
      ]
     },
     "metadata": {
      "needs_background": "light"
     },
     "output_type": "display_data"
    },
    {
     "name": "stderr",
     "output_type": "stream",
     "text": [
      "HopSkipJump: 100%|███████████████████████████████| 1/1 [00:00<00:00,  1.36it/s]\n"
     ]
    },
    {
     "name": "stdout",
     "output_type": "stream",
     "text": [
      "Adversarial image at step 30. L2 error 1329.3748578258126 and class label 1.\n"
     ]
    },
    {
     "data": {
      "image/png": "[encoded data removed]",
      "text/plain": [
       "<Figure size 432x288 with 1 Axes>"
      ]
     },
     "metadata": {
      "needs_background": "light"
     },
     "output_type": "display_data"
    },
    {
     "name": "stderr",
     "output_type": "stream",
     "text": [
      "HopSkipJump: 100%|███████████████████████████████| 1/1 [00:01<00:00,  1.05s/it]\n"
     ]
    },
    {
     "name": "stdout",
     "output_type": "stream",
     "text": [
      "Adversarial image at step 40. L2 error 945.5967172873374 and class label 1.\n"
     ]
    },
    {
     "data": {
      "image/png": "[encoded data removed]",
      "text/plain": [
       "<Figure size 432x288 with 1 Axes>"
      ]
     },
     "metadata": {
      "needs_background": "light"
     },
     "output_type": "display_data"
    },
    {
     "name": "stderr",
     "output_type": "stream",
     "text": [
      "HopSkipJump: 100%|███████████████████████████████| 1/1 [00:00<00:00,  1.05it/s]\n"
     ]
    },
    {
     "name": "stdout",
     "output_type": "stream",
     "text": [
      "Adversarial image at step 50. L2 error 751.6665732260916 and class label 1.\n"
     ]
    },
    {
     "data": {
      "image/png": "[encoded data removed]",
      "text/plain": [
       "<Figure size 432x288 with 1 Axes>"
      ]
     },
     "metadata": {
      "needs_background": "light"
     },
     "output_type": "display_data"
    },
    {
     "name": "stderr",
     "output_type": "stream",
     "text": [
      "HopSkipJump: 100%|███████████████████████████████| 1/1 [00:01<00:00,  1.06s/it]\n"
     ]
    },
    {
     "name": "stdout",
     "output_type": "stream",
     "text": [
      "Adversarial image at step 60. L2 error 597.8017737111122 and class label 1.\n"
     ]
    },
    {
     "data": {
      "image/png": "[encoded data removed]",
      "text/plain": [
       "<Figure size 432x288 with 1 Axes>"
      ]
     },
     "metadata": {
      "needs_background": "light"
     },
     "output_type": "display_data"
    },
    {
     "name": "stderr",
     "output_type": "stream",
     "text": [
      "HopSkipJump: 100%|███████████████████████████████| 1/1 [00:01<00:00,  1.16s/it]\n"
     ]
    },
    {
     "name": "stdout",
     "output_type": "stream",
     "text": [
      "Adversarial image at step 70. L2 error 469.1900010935627 and class label 1.\n"
     ]
    },
    {
     "data": {
      "image/png": "[encoded data removed]",
      "text/plain": [
       "<Figure size 432x288 with 1 Axes>"
      ]
     },
     "metadata": {
      "needs_background": "light"
     },
     "output_type": "display_data"
    },
    {
     "name": "stderr",
     "output_type": "stream",
     "text": [
      "HopSkipJump: 100%|███████████████████████████████| 1/1 [00:01<00:00,  1.21s/it]\n"
     ]
    },
    {
     "name": "stdout",
     "output_type": "stream",
     "text": [
      "Adversarial image at step 80. L2 error 381.67698019074146 and class label 1.\n"
     ]
    },
    {
     "data": {
      "image/png": "[encoded data removed]",
      "text/plain": [
       "<Figure size 432x288 with 1 Axes>"
      ]
     },
     "metadata": {
      "needs_background": "light"
     },
     "output_type": "display_data"
    },
    {
     "name": "stderr",
     "output_type": "stream",
     "text": [
      "HopSkipJump: 100%|███████████████████████████████| 1/1 [00:01<00:00,  1.20s/it]\n"
     ]
    },
    {
     "name": "stdout",
     "output_type": "stream",
     "text": [
      "Adversarial image at step 90. L2 error 324.58840115146944 and class label 1.\n"
     ]
    },
    {
     "data": {
      "image/png": "[encoded data removed]",
      "text/plain": [
       "<Figure size 432x288 with 1 Axes>"
      ]
     },
     "metadata": {
      "needs_background": "light"
     },
     "output_type": "display_data"
    },
    {
     "name": "stderr",
     "output_type": "stream",
     "text": [
      "HopSkipJump: 100%|███████████████████████████████| 1/1 [00:01<00:00,  1.31s/it]\n"
     ]
    },
    {
     "name": "stdout",
     "output_type": "stream",
     "text": [
      "Adversarial image at step 100. L2 error 298.8289070849374 and class label 1.\n"
     ]
    },
    {
     "data": {
      "image/png": "[encoded data removed]",
      "text/plain": [
       "<Figure size 432x288 with 1 Axes>"
      ]
     },
     "metadata": {
      "needs_background": "light"
     },
     "output_type": "display_data"
    },
    {
     "name": "stderr",
     "output_type": "stream",
     "text": [
      "HopSkipJump: 100%|███████████████████████████████| 1/1 [00:01<00:00,  1.44s/it]\n"
     ]
    },
    {
     "name": "stdout",
     "output_type": "stream",
     "text": [
      "Adversarial image at step 110. L2 error 284.1836752964681 and class label 1.\n"
     ]
    },
    {
     "data": {
      "image/png": "[encoded data removed]",
      "text/plain": [
       "<Figure size 432x288 with 1 Axes>"
      ]
     },
     "metadata": {
      "needs_background": "light"
     },
     "output_type": "display_data"
    },
    {
     "name": "stderr",
     "output_type": "stream",
     "text": [
      "HopSkipJump: 100%|███████████████████████████████| 1/1 [00:01<00:00,  1.41s/it]\n"
     ]
    },
    {
     "name": "stdout",
     "output_type": "stream",
     "text": [
      "Adversarial image at step 120. L2 error 267.7281379895752 and class label 1.\n"
     ]
    },
    {
     "data": {
      "image/png": "[encoded data removed]",
      "text/plain": [
       "<Figure size 432x288 with 1 Axes>"
      ]
     },
     "metadata": {
      "needs_background": "light"
     },
     "output_type": "display_data"
    },
    {
     "name": "stderr",
     "output_type": "stream",
     "text": [
      "HopSkipJump: 100%|███████████████████████████████| 1/1 [00:01<00:00,  1.43s/it]\n"
     ]
    },
    {
     "name": "stdout",
     "output_type": "stream",
     "text": [
      "Adversarial image at step 130. L2 error 257.4771715472612 and class label 1.\n"
     ]
    },
    {
     "data": {
      "image/png": "[encoded data removed]",
      "text/plain": [
       "<Figure size 432x288 with 1 Axes>"
      ]
     },
     "metadata": {
      "needs_background": "light"
     },
     "output_type": "display_data"
    },
    {
     "name": "stderr",
     "output_type": "stream",
     "text": [
      "HopSkipJump: 100%|███████████████████████████████| 1/1 [00:01<00:00,  1.55s/it]\n"
     ]
    },
    {
     "name": "stdout",
     "output_type": "stream",
     "text": [
      "Adversarial image at step 140. L2 error 248.7263026662427 and class label 1.\n"
     ]
    },
    {
     "data": {
      "image/png": "[encoded data removed]",
      "text/plain": [
       "<Figure size 432x288 with 1 Axes>"
      ]
     },
     "metadata": {
      "needs_background": "light"
     },
     "output_type": "display_data"
    },
    {
     "name": "stderr",
     "output_type": "stream",
     "text": [
      "HopSkipJump: 100%|███████████████████████████████| 1/1 [00:01<00:00,  1.43s/it]\n"
     ]
    },
    {
     "name": "stdout",
     "output_type": "stream",
     "text": [
      "Adversarial image at step 150. L2 error 239.97717630078336 and class label 1.\n"
     ]
    },
    {
     "data": {
      "image/png": "[encoded data removed]",
      "text/plain": [
       "<Figure size 432x288 with 1 Axes>"
      ]
     },
     "metadata": {
      "needs_background": "light"
     },
     "output_type": "display_data"
    },
    {
     "name": "stderr",
     "output_type": "stream",
     "text": [
      "HopSkipJump: 100%|███████████████████████████████| 1/1 [00:01<00:00,  1.67s/it]\n"
     ]
    },
    {
     "name": "stdout",
     "output_type": "stream",
     "text": [
      "Adversarial image at step 160. L2 error 233.20779743614412 and class label 1.\n"
     ]
    },
    {
     "data": {
      "image/png": "[encoded data removed]",
      "text/plain": [
       "<Figure size 432x288 with 1 Axes>"
      ]
     },
     "metadata": {
      "needs_background": "light"
     },
     "output_type": "display_data"
    },
    {
     "name": "stderr",
     "output_type": "stream",
     "text": [
      "HopSkipJump: 100%|███████████████████████████████| 1/1 [00:02<00:00,  2.28s/it]\n"
     ]
    },
    {
     "name": "stdout",
     "output_type": "stream",
     "text": [
      "Adversarial image at step 170. L2 error 231.92850829312104 and class label 1.\n"
     ]
    },
    {
     "data": {
      "image/png": "[encoded data removed]",
      "text/plain": [
       "<Figure size 432x288 with 1 Axes>"
      ]
     },
     "metadata": {
      "needs_background": "light"
     },
     "output_type": "display_data"
    },
    {
     "name": "stderr",
     "output_type": "stream",
     "text": [
      "HopSkipJump: 100%|███████████████████████████████| 1/1 [00:01<00:00,  1.91s/it]\n"
     ]
    },
    {
     "name": "stdout",
     "output_type": "stream",
     "text": [
      "Adversarial image at step 180. L2 error 228.21999961906536 and class label 1.\n"
     ]
    },
    {
     "data": {
      "image/png": "[encoded data removed]",
      "text/plain": [
       "<Figure size 432x288 with 1 Axes>"
      ]
     },
     "metadata": {
      "needs_background": "light"
     },
     "output_type": "display_data"
    },
    {
     "name": "stderr",
     "output_type": "stream",
     "text": [
      "HopSkipJump: 100%|███████████████████████████████| 1/1 [00:02<00:00,  2.27s/it]\n"
     ]
    },
    {
     "name": "stdout",
     "output_type": "stream",
     "text": [
      "Adversarial image at step 190. L2 error 224.45705911688566 and class label 1.\n"
     ]
    },
    {
     "data": {
      "image/png": "[encoded data removed]",
      "text/plain": [
       "<Figure size 432x288 with 1 Axes>"
      ]
     },
     "metadata": {
      "needs_background": "light"
     },
     "output_type": "display_data"
    }
   ],
   "source": [
    "attack = HopSkipJump(classifier=classifier, targeted=True, max_iter=0, max_eval=1000, init_eval=10)\n",
    "iter_step = 10\n",
    "x_adv = init_image\n",
    "for i in range(20):\n",
    "    x_adv = attack.generate(x=target_image, y=to_categorical([1], 1000), x_adv_init=x_adv, resume=True)\n",
    "\n",
    "    #clear_output()\n",
    "    print(\"Adversarial image at step %d.\" % (i * iter_step), \"L2 error\", \n",
    "          np.linalg.norm(np.reshape(x_adv[0] - target_image, [-1])),\n",
    "          \"and class label %d.\" % np.argmax(classifier.predict(x_adv)[0]))\n",
    "    plt.imshow(x_adv[0].reshape(32, 32).astype(np.uint))\n",
    "    plt.show(block=False)\n",
    "    \n",
    "    attack.max_iter = iter_step"
   ]
  },
  {
   "cell_type": "code",
   "execution_count": 144,
   "metadata": {
    "scrolled": false
   },
   "outputs": [
    {
     "data": {
      "text/plain": [
       "<matplotlib.image.AxesImage at 0x1ca670b8>"
      ]
     },
     "execution_count": 144,
     "metadata": {},
     "output_type": "execute_result"
    },
    {
     "data": {
      "image/png": "[encoded data removed]",
      "text/plain": [
       "<Figure size 432x288 with 1 Axes>"
      ]
     },
     "metadata": {
      "needs_background": "light"
     },
     "output_type": "display_data"
    }
   ],
   "source": [
    "plt.imshow(x_adv[0].reshape(32, 32).astype(np.uint))"
   ]
  },
  {
   "cell_type": "code",
   "execution_count": 145,
   "metadata": {
    "scrolled": true
   },
   "outputs": [
    {
     "data": {
      "text/plain": [
       "7"
      ]
     },
     "execution_count": 145,
     "metadata": {},
     "output_type": "execute_result"
    }
   ],
   "source": [
    "np.argmax(classifier.predict(x_adv.astype(np.uint).astype(np.float32))[0])"
   ]
  },
  {
   "cell_type": "code",
   "execution_count": 146,
   "metadata": {},
   "outputs": [],
   "source": [
    "input_array = np.arange(0,62494,1,dtype=np.float32) #just for test\n",
    "input_array[0:150] = np.ravel(np.transpose(model.layers[0].get_weights()[0], (3, 2, 1, 0)))\n",
    "input_array[150:2550] = np.ravel(np.transpose(model.layers[3].get_weights()[0], (3, 2, 1, 0)))\n",
    "input_array[2550:50550] = np.ravel(np.transpose(model.layers[7].get_weights()[0], (1, 0)))\n",
    "input_array[50550:60630] = np.ravel(np.transpose(model.layers[8].get_weights()[0], (1, 0)))\n",
    "input_array[60630:61470] = np.ravel(np.transpose(model.layers[9].get_weights()[0], (1, 0)))\n",
    "input_array[61470:62494] = np.ravel(x_adv)"
   ]
  },
  {
   "cell_type": "code",
   "execution_count": 147,
   "metadata": {},
   "outputs": [],
   "source": [
    "with open('input_array_adv_t.pickle', 'wb') as f:\n",
    "    # Pickle the 'data' dictionary using the highest protocol available.\n",
    "    pickle.dump(input_array, f, pickle.HIGHEST_PROTOCOL)"
   ]
  }
 ],
 "metadata": {
  "kernelspec": {
   "display_name": "Python 3",
   "language": "python",
   "name": "python3"
  },
  "language_info": {
   "codemirror_mode": {
    "name": "ipython",
    "version": 3
   },
   "file_extension": ".py",
   "mimetype": "text/x-python",
   "name": "python",
   "nbconvert_exporter": "python",
   "pygments_lexer": "ipython3",
   "version": "3.6.10"
  }
 },
 "nbformat": 4,
 "nbformat_minor": 2
}
