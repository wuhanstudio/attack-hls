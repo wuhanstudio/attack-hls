{
 "cells": [
  {
   "cell_type": "markdown",
   "metadata": {},
   "source": [
    "# LeNet 0730"
   ]
  },
  {
   "cell_type": "code",
   "execution_count": 10,
   "metadata": {},
   "outputs": [],
   "source": [
    "import numpy as np\n",
    "from pynq import Xlnk\n",
    "from pynq import Overlay"
   ]
  },
  {
   "cell_type": "code",
   "execution_count": 11,
   "metadata": {},
   "outputs": [
    {
     "name": "stderr",
     "output_type": "stream",
     "text": [
      "/usr/local/lib/python3.6/dist-packages/pynq/pl_server/device.py:594: UserWarning: Users will not get PARAMETERS / REGISTERS information through TCL files. HWH file is recommended.\n",
      "  warnings.warn(message, UserWarning)\n"
     ]
    }
   ],
   "source": [
    "overlay = Overlay(\"./Hardware/CannyEdge.bit\")"
   ]
  },
  {
   "cell_type": "code",
   "execution_count": 12,
   "metadata": {},
   "outputs": [
    {
     "name": "stderr",
     "output_type": "stream",
     "text": [
      "/usr/local/lib/python3.6/dist-packages/pynq/lib/dma.py:200: UserWarning: Failed to find parameter c_sg_length_width; users should really use *.hwh files for overlays.\n",
      "  warnings.warn(message, UserWarning)\n"
     ]
    }
   ],
   "source": [
    "dma = overlay.axi_dma_0"
   ]
  },
  {
   "cell_type": "code",
   "execution_count": 13,
   "metadata": {},
   "outputs": [],
   "source": [
    "CannyEdge = overlay.canny_edge_0"
   ]
  },
  {
   "cell_type": "markdown",
   "metadata": {},
   "source": [
    "### AXI Stream 传输\n",
    "```c++\n",
    "struct wide_stream {\n",
    "\tfloat data;\n",
    "\tap_uint<1> user;\n",
    "\tap_uint<1> last;\n",
    "};\n",
    "```\n",
    "数据传输格式：float  32bit\n",
    "\n",
    "故\n",
    "\n",
    "`input_array.dtpye=np.float32`\n",
    "\n",
    "`output_array.dtpye=np.float32`\n",
    "\n",
    "`in_buffer.dtype=np.float32`\n",
    "\n",
    "`out_buffer.dtype=np.float32`"
   ]
  },
  {
   "cell_type": "code",
   "execution_count": 14,
   "metadata": {},
   "outputs": [],
   "source": [
    "xlnk = Xlnk()\n",
    "in_buffer = xlnk.cma_array(shape=(62494), \n",
    "                           dtype=np.float32)\n",
    "out_buffer = xlnk.cma_array(shape=(1), \n",
    "                            dtype=np.float32)"
   ]
  },
  {
   "cell_type": "markdown",
   "metadata": {},
   "source": [
    "### Parameter 存放格式\n",
    "**image**和**parameter**存放在`input_array`中\n",
    "> iamge 32x32=1024\n",
    "\n",
    "> layer1 weights  5x5x6 = 25x6 = 150\n",
    "\n",
    "> layer3 weights  5x5x6x16 = 25x6x16 =2400\n",
    "\n",
    "> layer5 weights 400x120 = 48000\n",
    "\n",
    "> layer6 weights 84x120 = 10080\n",
    "\n",
    "> layer7 weights 10x84 = 840\n",
    "\n",
    "> 1024+150+2400+48000+10080+840=62494\n",
    "\n",
    "- input_array[0:149] = layer1 weights    **[Output Channel,Row,Column]**\n",
    "- input_array[150:2549] = layer3 weights    **[Output Channel,Input Channel,Row,Column]**\n",
    "- input_array[2550:50549] = layer5 weights    **[Output Channel,Input Channel,Row,Column]**\n",
    "- input_array[50550:60629] = layer6 weights      **[Output Channel,Input Channel]**\n",
    "- input_array[60630:61469] = layer7 weights      **[Output Channel,Input Channel]**\n",
    "- input_array[61470:62493] = image[0,0],image[0,1]...image[0,31],image[1,0]...image[31,31]     **[row,column]**"
   ]
  },
  {
   "cell_type": "code",
   "execution_count": 15,
   "metadata": {},
   "outputs": [],
   "source": [
    "input_array = np.arange(0,62494,1,dtype=np.float32) #just for test"
   ]
  },
  {
   "cell_type": "code",
   "execution_count": 17,
   "metadata": {},
   "outputs": [],
   "source": [
    "import pickle"
   ]
  },
  {
   "cell_type": "code",
   "execution_count": 18,
   "metadata": {},
   "outputs": [],
   "source": [
    "with open('input_array.pickle', 'rb') as f:\n",
    "    # The protocol version used is detected automatically, so we do not\n",
    "    # have to specify it.\n",
    "    input_array = pickle.load(f)"
   ]
  },
  {
   "cell_type": "code",
   "execution_count": 19,
   "metadata": {},
   "outputs": [
    {
     "data": {
      "text/plain": [
       "(62494,)"
      ]
     },
     "execution_count": 19,
     "metadata": {},
     "output_type": "execute_result"
    }
   ],
   "source": [
    "input_array.shape"
   ]
  },
  {
   "cell_type": "code",
   "execution_count": 20,
   "metadata": {},
   "outputs": [],
   "source": [
    "output_array = np.empty((1,),dtype=np.float32)"
   ]
  },
  {
   "cell_type": "code",
   "execution_count": 21,
   "metadata": {},
   "outputs": [],
   "source": [
    "np.copyto(in_buffer,input_array)"
   ]
  },
  {
   "cell_type": "code",
   "execution_count": 22,
   "metadata": {},
   "outputs": [],
   "source": [
    "dma.sendchannel.transfer(in_buffer)\n",
    "dma.recvchannel.transfer(out_buffer)    \n",
    "CannyEdge.write(0x00,0x81) # start"
   ]
  },
  {
   "cell_type": "code",
   "execution_count": 23,
   "metadata": {},
   "outputs": [],
   "source": [
    "dma.sendchannel.wait()"
   ]
  },
  {
   "cell_type": "code",
   "execution_count": null,
   "metadata": {},
   "outputs": [],
   "source": [
    "dma.recvchannel.wait()"
   ]
  },
  {
   "cell_type": "code",
   "execution_count": null,
   "metadata": {},
   "outputs": [],
   "source": [
    "np.copyto(output_array,out_buffer)"
   ]
  },
  {
   "cell_type": "code",
   "execution_count": null,
   "metadata": {},
   "outputs": [],
   "source": [
    "print(output_array)"
   ]
  },
  {
   "cell_type": "code",
   "execution_count": null,
   "metadata": {},
   "outputs": [],
   "source": []
  }
 ],
 "metadata": {
  "kernelspec": {
   "display_name": "Python 3",
   "language": "python",
   "name": "python3"
  },
  "language_info": {
   "codemirror_mode": {
    "name": "ipython",
    "version": 3
   },
   "file_extension": ".py",
   "mimetype": "text/x-python",
   "name": "python",
   "nbconvert_exporter": "python",
   "pygments_lexer": "ipython3",
   "version": "3.6.5"
  }
 },
 "nbformat": 4,
 "nbformat_minor": 2
}
